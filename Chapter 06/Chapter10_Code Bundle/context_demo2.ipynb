{
 "cells": [
  {
   "cell_type": "code",
   "execution_count": 1,
   "metadata": {},
   "outputs": [],
   "source": [
    "import polars as mypl\n",
    "import numpy as mynp\n",
    "import matplotlib.pyplot as myplt"
   ]
  },
  {
   "cell_type": "code",
   "execution_count": 3,
   "metadata": {},
   "outputs": [],
   "source": [
    "mydf = mypl.read_csv('E:\\my_pythonbook\\DataScience\\Code_Bundle\\Library_Polars\\iris.csv')"
   ]
  },
  {
   "cell_type": "code",
   "execution_count": 6,
   "metadata": {},
   "outputs": [
    {
     "data": {
      "text/html": [
       "<div><style>\n",
       ".dataframe > thead > tr > th,\n",
       ".dataframe > tbody > tr > td {\n",
       "  text-align: right;\n",
       "}\n",
       "</style>\n",
       "<small>shape: (3, 2)</small><table border=\"1\" class=\"dataframe\"><thead><tr><th>variety</th><th>count</th></tr><tr><td>str</td><td>u32</td></tr></thead><tbody><tr><td>&quot;Setosa&quot;</td><td>50</td></tr><tr><td>&quot;Versicolor&quot;</td><td>50</td></tr><tr><td>&quot;Virginica&quot;</td><td>50</td></tr></tbody></table></div>"
      ],
      "text/plain": [
       "shape: (3, 2)\n",
       "┌────────────┬───────┐\n",
       "│ variety    ┆ count │\n",
       "│ ---        ┆ ---   │\n",
       "│ str        ┆ u32   │\n",
       "╞════════════╪═══════╡\n",
       "│ Setosa     ┆ 50    │\n",
       "│ Versicolor ┆ 50    │\n",
       "│ Virginica  ┆ 50    │\n",
       "└────────────┴───────┘"
      ]
     },
     "execution_count": 6,
     "metadata": {},
     "output_type": "execute_result"
    }
   ],
   "source": [
    "mydf.groupby('variety').agg([\n",
    "    mypl.count()\n",
    "])"
   ]
  },
  {
   "cell_type": "code",
   "execution_count": 16,
   "metadata": {},
   "outputs": [
    {
     "data": {
      "text/html": [
       "<div><style>\n",
       ".dataframe > thead > tr > th,\n",
       ".dataframe > tbody > tr > td {\n",
       "  text-align: right;\n",
       "}\n",
       "</style>\n",
       "<small>shape: (3, 3)</small><table border=\"1\" class=\"dataframe\"><thead><tr><th>variety</th><th>count</th><th>mypercentage</th></tr><tr><td>str</td><td>u32</td><td>f64</td></tr></thead><tbody><tr><td>&quot;Setosa&quot;</td><td>50</td><td>0.333333</td></tr><tr><td>&quot;Virginica&quot;</td><td>50</td><td>0.333333</td></tr><tr><td>&quot;Versicolor&quot;</td><td>50</td><td>0.333333</td></tr></tbody></table></div>"
      ],
      "text/plain": [
       "shape: (3, 3)\n",
       "┌────────────┬───────┬──────────────┐\n",
       "│ variety    ┆ count ┆ mypercentage │\n",
       "│ ---        ┆ ---   ┆ ---          │\n",
       "│ str        ┆ u32   ┆ f64          │\n",
       "╞════════════╪═══════╪══════════════╡\n",
       "│ Setosa     ┆ 50    ┆ 0.333333     │\n",
       "│ Virginica  ┆ 50    ┆ 0.333333     │\n",
       "│ Versicolor ┆ 50    ┆ 0.333333     │\n",
       "└────────────┴───────┴──────────────┘"
      ]
     },
     "execution_count": 16,
     "metadata": {},
     "output_type": "execute_result"
    }
   ],
   "source": [
    "mydf.groupby('variety').agg(mypl.count()).sort('count').with_columns([\n",
    "    (mypl.col('count')/mypl.col('count').sum()).alias('mypercentage')\n",
    "])"
   ]
  },
  {
   "cell_type": "code",
   "execution_count": null,
   "metadata": {},
   "outputs": [],
   "source": []
  }
 ],
 "metadata": {
  "kernelspec": {
   "display_name": "Python 3",
   "language": "python",
   "name": "python3"
  },
  "language_info": {
   "codemirror_mode": {
    "name": "ipython",
    "version": 3
   },
   "file_extension": ".py",
   "mimetype": "text/x-python",
   "name": "python",
   "nbconvert_exporter": "python",
   "pygments_lexer": "ipython3",
   "version": "3.7.6"
  }
 },
 "nbformat": 4,
 "nbformat_minor": 4
}
