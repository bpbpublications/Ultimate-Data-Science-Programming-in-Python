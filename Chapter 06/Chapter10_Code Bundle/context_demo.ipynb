{
 "cells": [
  {
   "cell_type": "markdown",
   "metadata": {},
   "source": [
    "## Reading of csv file "
   ]
  },
  {
   "cell_type": "code",
   "execution_count": 15,
   "metadata": {},
   "outputs": [],
   "source": [
    "import polars as mypl\n",
    "import pandas as mypd\n",
    "import numpy as mynp"
   ]
  },
  {
   "cell_type": "code",
   "execution_count": 16,
   "metadata": {},
   "outputs": [],
   "source": [
    "mydf = mypl.read_csv('E:\\my_pythonbook\\DataScience\\Code_Bundle\\Library_Polars\\iris.csv')"
   ]
  },
  {
   "cell_type": "markdown",
   "metadata": {},
   "source": [
    "## Basic operations"
   ]
  },
  {
   "cell_type": "code",
   "execution_count": 17,
   "metadata": {},
   "outputs": [
    {
     "data": {
      "text/plain": [
       "(150, 5)"
      ]
     },
     "execution_count": 17,
     "metadata": {},
     "output_type": "execute_result"
    }
   ],
   "source": [
    "mydf.shape # 150 rows and 5 columns"
   ]
  },
  {
   "cell_type": "code",
   "execution_count": 18,
   "metadata": {},
   "outputs": [
    {
     "data": {
      "text/html": [
       "<div><style>\n",
       ".dataframe > thead > tr > th,\n",
       ".dataframe > tbody > tr > td {\n",
       "  text-align: right;\n",
       "}\n",
       "</style>\n",
       "<small>shape: (5, 5)</small><table border=\"1\" class=\"dataframe\"><thead><tr><th>sepal.length</th><th>sepal.width</th><th>petal.length</th><th>petal.width</th><th>variety</th></tr><tr><td>f64</td><td>f64</td><td>f64</td><td>f64</td><td>str</td></tr></thead><tbody><tr><td>5.1</td><td>3.5</td><td>1.4</td><td>0.2</td><td>&quot;Setosa&quot;</td></tr><tr><td>4.9</td><td>3.0</td><td>1.4</td><td>0.2</td><td>&quot;Setosa&quot;</td></tr><tr><td>4.7</td><td>3.2</td><td>1.3</td><td>0.2</td><td>&quot;Setosa&quot;</td></tr><tr><td>4.6</td><td>3.1</td><td>1.5</td><td>0.2</td><td>&quot;Setosa&quot;</td></tr><tr><td>5.0</td><td>3.6</td><td>1.4</td><td>0.2</td><td>&quot;Setosa&quot;</td></tr></tbody></table></div>"
      ],
      "text/plain": [
       "shape: (5, 5)\n",
       "┌──────────────┬─────────────┬──────────────┬─────────────┬─────────┐\n",
       "│ sepal.length ┆ sepal.width ┆ petal.length ┆ petal.width ┆ variety │\n",
       "│ ---          ┆ ---         ┆ ---          ┆ ---         ┆ ---     │\n",
       "│ f64          ┆ f64         ┆ f64          ┆ f64         ┆ str     │\n",
       "╞══════════════╪═════════════╪══════════════╪═════════════╪═════════╡\n",
       "│ 5.1          ┆ 3.5         ┆ 1.4          ┆ 0.2         ┆ Setosa  │\n",
       "│ 4.9          ┆ 3.0         ┆ 1.4          ┆ 0.2         ┆ Setosa  │\n",
       "│ 4.7          ┆ 3.2         ┆ 1.3          ┆ 0.2         ┆ Setosa  │\n",
       "│ 4.6          ┆ 3.1         ┆ 1.5          ┆ 0.2         ┆ Setosa  │\n",
       "│ 5.0          ┆ 3.6         ┆ 1.4          ┆ 0.2         ┆ Setosa  │\n",
       "└──────────────┴─────────────┴──────────────┴─────────────┴─────────┘"
      ]
     },
     "execution_count": 18,
     "metadata": {},
     "output_type": "execute_result"
    }
   ],
   "source": [
    "mydf.head() # # display of first 5 rows\n",
    "# # we can display any number of rows if we pass any argument to head method"
   ]
  },
  {
   "cell_type": "code",
   "execution_count": 19,
   "metadata": {},
   "outputs": [
    {
     "data": {
      "text/html": [
       "<div>\n",
       "<style scoped>\n",
       "    .dataframe tbody tr th:only-of-type {\n",
       "        vertical-align: middle;\n",
       "    }\n",
       "\n",
       "    .dataframe tbody tr th {\n",
       "        vertical-align: top;\n",
       "    }\n",
       "\n",
       "    .dataframe thead th {\n",
       "        text-align: right;\n",
       "    }\n",
       "</style>\n",
       "<table border=\"1\" class=\"dataframe\">\n",
       "  <thead>\n",
       "    <tr style=\"text-align: right;\">\n",
       "      <th></th>\n",
       "      <th>sepal.length</th>\n",
       "      <th>sepal.width</th>\n",
       "      <th>petal.length</th>\n",
       "      <th>petal.width</th>\n",
       "      <th>variety</th>\n",
       "    </tr>\n",
       "  </thead>\n",
       "  <tbody>\n",
       "    <tr>\n",
       "      <th>0</th>\n",
       "      <td>5.1</td>\n",
       "      <td>3.5</td>\n",
       "      <td>1.4</td>\n",
       "      <td>0.2</td>\n",
       "      <td>Setosa</td>\n",
       "    </tr>\n",
       "    <tr>\n",
       "      <th>1</th>\n",
       "      <td>4.9</td>\n",
       "      <td>3.0</td>\n",
       "      <td>1.4</td>\n",
       "      <td>0.2</td>\n",
       "      <td>Setosa</td>\n",
       "    </tr>\n",
       "    <tr>\n",
       "      <th>2</th>\n",
       "      <td>4.7</td>\n",
       "      <td>3.2</td>\n",
       "      <td>1.3</td>\n",
       "      <td>0.2</td>\n",
       "      <td>Setosa</td>\n",
       "    </tr>\n",
       "    <tr>\n",
       "      <th>3</th>\n",
       "      <td>4.6</td>\n",
       "      <td>3.1</td>\n",
       "      <td>1.5</td>\n",
       "      <td>0.2</td>\n",
       "      <td>Setosa</td>\n",
       "    </tr>\n",
       "    <tr>\n",
       "      <th>4</th>\n",
       "      <td>5.0</td>\n",
       "      <td>3.6</td>\n",
       "      <td>1.4</td>\n",
       "      <td>0.2</td>\n",
       "      <td>Setosa</td>\n",
       "    </tr>\n",
       "  </tbody>\n",
       "</table>\n",
       "</div>"
      ],
      "text/plain": [
       "   sepal.length  sepal.width  petal.length  petal.width variety\n",
       "0           5.1          3.5           1.4          0.2  Setosa\n",
       "1           4.9          3.0           1.4          0.2  Setosa\n",
       "2           4.7          3.2           1.3          0.2  Setosa\n",
       "3           4.6          3.1           1.5          0.2  Setosa\n",
       "4           5.0          3.6           1.4          0.2  Setosa"
      ]
     },
     "execution_count": 19,
     "metadata": {},
     "output_type": "execute_result"
    }
   ],
   "source": [
    "mydf.head().to_pandas()  # converting the result of head() into a pandas dataframe using to_pandas() function"
   ]
  },
  {
   "cell_type": "code",
   "execution_count": 22,
   "metadata": {},
   "outputs": [
    {
     "data": {
      "text/plain": [
       "[Float64, Float64, Float64, Float64, Utf8]"
      ]
     },
     "execution_count": 22,
     "metadata": {},
     "output_type": "execute_result"
    }
   ],
   "source": [
    "mydf.dtypes # will return the datatypes of the columns of the dataframe"
   ]
  },
  {
   "cell_type": "markdown",
   "metadata": {},
   "source": [
    "## Selecting and Filtering Data "
   ]
  },
  {
   "cell_type": "code",
   "execution_count": null,
   "metadata": {},
   "outputs": [],
   "source": [
    "# Note: There are no mydf.loc or mydf.iloc as polars does not have indexes\n",
    "# Here operations are similiar to select and where commands in sql"
   ]
  },
  {
   "cell_type": "markdown",
   "metadata": {},
   "source": [
    "### 1. Indexing with [ works "
   ]
  },
  {
   "cell_type": "code",
   "execution_count": 23,
   "metadata": {},
   "outputs": [
    {
     "data": {
      "text/html": [
       "<div><style>\n",
       ".dataframe > thead > tr > th,\n",
       ".dataframe > tbody > tr > td {\n",
       "  text-align: right;\n",
       "}\n",
       "</style>\n",
       "<small>shape: (1, 5)</small><table border=\"1\" class=\"dataframe\"><thead><tr><th>sepal.length</th><th>sepal.width</th><th>petal.length</th><th>petal.width</th><th>variety</th></tr><tr><td>f64</td><td>f64</td><td>f64</td><td>f64</td><td>str</td></tr></thead><tbody><tr><td>5.1</td><td>3.5</td><td>1.4</td><td>0.2</td><td>&quot;Setosa&quot;</td></tr></tbody></table></div>"
      ],
      "text/plain": [
       "shape: (1, 5)\n",
       "┌──────────────┬─────────────┬──────────────┬─────────────┬─────────┐\n",
       "│ sepal.length ┆ sepal.width ┆ petal.length ┆ petal.width ┆ variety │\n",
       "│ ---          ┆ ---         ┆ ---          ┆ ---         ┆ ---     │\n",
       "│ f64          ┆ f64         ┆ f64          ┆ f64         ┆ str     │\n",
       "╞══════════════╪═════════════╪══════════════╪═════════════╪═════════╡\n",
       "│ 5.1          ┆ 3.5         ┆ 1.4          ┆ 0.2         ┆ Setosa  │\n",
       "└──────────────┴─────────────┴──────────────┴─────────────┴─────────┘"
      ]
     },
     "execution_count": 23,
     "metadata": {},
     "output_type": "execute_result"
    }
   ],
   "source": [
    "# display of first row and all the columns\n",
    "mydf[0,:]"
   ]
  },
  {
   "cell_type": "code",
   "execution_count": 25,
   "metadata": {},
   "outputs": [
    {
     "data": {
      "text/html": [
       "<div><style>\n",
       ".dataframe > thead > tr > th,\n",
       ".dataframe > tbody > tr > td {\n",
       "  text-align: right;\n",
       "}\n",
       "</style>\n",
       "<small>shape: (2, 2)</small><table border=\"1\" class=\"dataframe\"><thead><tr><th>sepal.length</th><th>petal.length</th></tr><tr><td>f64</td><td>f64</td></tr></thead><tbody><tr><td>5.1</td><td>1.4</td></tr><tr><td>4.9</td><td>1.4</td></tr></tbody></table></div>"
      ],
      "text/plain": [
       "shape: (2, 2)\n",
       "┌──────────────┬──────────────┐\n",
       "│ sepal.length ┆ petal.length │\n",
       "│ ---          ┆ ---          │\n",
       "│ f64          ┆ f64          │\n",
       "╞══════════════╪══════════════╡\n",
       "│ 5.1          ┆ 1.4          │\n",
       "│ 4.9          ┆ 1.4          │\n",
       "└──────────────┴──────────────┘"
      ]
     },
     "execution_count": 25,
     "metadata": {},
     "output_type": "execute_result"
    }
   ],
   "source": [
    "# suppose we want to display first 2 rows of column name sepal.length and petal.length only\n",
    "mydf[:,['sepal.length','petal.length']].head(2)"
   ]
  },
  {
   "cell_type": "code",
   "execution_count": 26,
   "metadata": {},
   "outputs": [
    {
     "data": {
      "text/html": [
       "<div><style>\n",
       ".dataframe > thead > tr > th,\n",
       ".dataframe > tbody > tr > td {\n",
       "  text-align: right;\n",
       "}\n",
       "</style>\n",
       "<small>shape: (3, 5)</small><table border=\"1\" class=\"dataframe\"><thead><tr><th>sepal.length</th><th>sepal.width</th><th>petal.length</th><th>petal.width</th><th>variety</th></tr><tr><td>f64</td><td>f64</td><td>f64</td><td>f64</td><td>str</td></tr></thead><tbody><tr><td>7.0</td><td>3.2</td><td>4.7</td><td>1.4</td><td>&quot;Versicolor&quot;</td></tr><tr><td>6.4</td><td>3.2</td><td>4.5</td><td>1.5</td><td>&quot;Versicolor&quot;</td></tr><tr><td>6.9</td><td>3.1</td><td>4.9</td><td>1.5</td><td>&quot;Versicolor&quot;</td></tr></tbody></table></div>"
      ],
      "text/plain": [
       "shape: (3, 5)\n",
       "┌──────────────┬─────────────┬──────────────┬─────────────┬────────────┐\n",
       "│ sepal.length ┆ sepal.width ┆ petal.length ┆ petal.width ┆ variety    │\n",
       "│ ---          ┆ ---         ┆ ---          ┆ ---         ┆ ---        │\n",
       "│ f64          ┆ f64         ┆ f64          ┆ f64         ┆ str        │\n",
       "╞══════════════╪═════════════╪══════════════╪═════════════╪════════════╡\n",
       "│ 7.0          ┆ 3.2         ┆ 4.7          ┆ 1.4         ┆ Versicolor │\n",
       "│ 6.4          ┆ 3.2         ┆ 4.5          ┆ 1.5         ┆ Versicolor │\n",
       "│ 6.9          ┆ 3.1         ┆ 4.9          ┆ 1.5         ┆ Versicolor │\n",
       "└──────────────┴─────────────┴──────────────┴─────────────┴────────────┘"
      ]
     },
     "execution_count": 26,
     "metadata": {},
     "output_type": "execute_result"
    }
   ],
   "source": [
    "# Now suppose we want to filter first 3 rows where petal.length is > 2.1 \n",
    "mydf.filter(mypl.col('petal.length')>2.1).head(3)"
   ]
  },
  {
   "cell_type": "markdown",
   "metadata": {},
   "source": [
    "### 2. Selecting data with idiomatic polars"
   ]
  },
  {
   "cell_type": "code",
   "execution_count": 27,
   "metadata": {},
   "outputs": [
    {
     "data": {
      "text/plain": [
       "<bound method DataFrame.to_pandas of shape: (5, 5)\n",
       "┌──────────────┬─────────────┬──────────────┬─────────────┬────────────┐\n",
       "│ sepal.length ┆ sepal.width ┆ petal.length ┆ petal.width ┆ variety    │\n",
       "│ ---          ┆ ---         ┆ ---          ┆ ---         ┆ ---        │\n",
       "│ f64          ┆ f64         ┆ f64          ┆ f64         ┆ str        │\n",
       "╞══════════════╪═════════════╪══════════════╪═════════════╪════════════╡\n",
       "│ 6.8          ┆ 2.8         ┆ 4.8          ┆ 1.4         ┆ Versicolor │\n",
       "│ 4.5          ┆ 2.3         ┆ 1.3          ┆ 0.3         ┆ Setosa     │\n",
       "│ 5.5          ┆ 2.5         ┆ 4.0          ┆ 1.3         ┆ Versicolor │\n",
       "│ 6.7          ┆ 3.0         ┆ 5.0          ┆ 1.7         ┆ Versicolor │\n",
       "│ 6.2          ┆ 2.9         ┆ 4.3          ┆ 1.3         ┆ Versicolor │\n",
       "└──────────────┴─────────────┴──────────────┴─────────────┴────────────┘>"
      ]
     },
     "execution_count": 27,
     "metadata": {},
     "output_type": "execute_result"
    }
   ],
   "source": [
    "mydf.sample(5).to_pandas"
   ]
  },
  {
   "cell_type": "code",
   "execution_count": 28,
   "metadata": {},
   "outputs": [
    {
     "data": {
      "text/html": [
       "<div><style>\n",
       ".dataframe > thead > tr > th,\n",
       ".dataframe > tbody > tr > td {\n",
       "  text-align: right;\n",
       "}\n",
       "</style>\n",
       "<small>shape: (4, 3)</small><table border=\"1\" class=\"dataframe\"><thead><tr><th>sepal.width</th><th>petal.width</th><th>variety</th></tr><tr><td>f64</td><td>f64</td><td>str</td></tr></thead><tbody><tr><td>3.5</td><td>0.2</td><td>&quot;Setosa&quot;</td></tr><tr><td>3.0</td><td>0.2</td><td>&quot;Setosa&quot;</td></tr><tr><td>3.2</td><td>0.2</td><td>&quot;Setosa&quot;</td></tr><tr><td>3.1</td><td>0.2</td><td>&quot;Setosa&quot;</td></tr></tbody></table></div>"
      ],
      "text/plain": [
       "shape: (4, 3)\n",
       "┌─────────────┬─────────────┬─────────┐\n",
       "│ sepal.width ┆ petal.width ┆ variety │\n",
       "│ ---         ┆ ---         ┆ ---     │\n",
       "│ f64         ┆ f64         ┆ str     │\n",
       "╞═════════════╪═════════════╪═════════╡\n",
       "│ 3.5         ┆ 0.2         ┆ Setosa  │\n",
       "│ 3.0         ┆ 0.2         ┆ Setosa  │\n",
       "│ 3.2         ┆ 0.2         ┆ Setosa  │\n",
       "│ 3.1         ┆ 0.2         ┆ Setosa  │\n",
       "└─────────────┴─────────────┴─────────┘"
      ]
     },
     "execution_count": 28,
     "metadata": {},
     "output_type": "execute_result"
    }
   ],
   "source": [
    "# Now suppose we want to select sepal.width , petal.width columns and variety columns only and display first 4 rows only\n",
    "# Using sql select type of operation for just selecting columns\n",
    "mydf.select(['sepal.width','petal.width','variety']).head(4)"
   ]
  },
  {
   "cell_type": "code",
   "execution_count": 30,
   "metadata": {},
   "outputs": [
    {
     "data": {
      "text/html": [
       "<div><style>\n",
       ".dataframe > thead > tr > th,\n",
       ".dataframe > tbody > tr > td {\n",
       "  text-align: right;\n",
       "}\n",
       "</style>\n",
       "<small>shape: (3, 5)</small><table border=\"1\" class=\"dataframe\"><thead><tr><th>sepal.length</th><th>sepal.width</th><th>petal.length</th><th>petal.width</th><th>variety</th></tr><tr><td>f64</td><td>f64</td><td>f64</td><td>f64</td><td>str</td></tr></thead><tbody><tr><td>5.1</td><td>3.5</td><td>14.0</td><td>0.2</td><td>&quot;Setosa&quot;</td></tr><tr><td>4.9</td><td>3.0</td><td>14.0</td><td>0.2</td><td>&quot;Setosa&quot;</td></tr><tr><td>4.7</td><td>3.2</td><td>13.0</td><td>0.2</td><td>&quot;Setosa&quot;</td></tr></tbody></table></div>"
      ],
      "text/plain": [
       "shape: (3, 5)\n",
       "┌──────────────┬─────────────┬──────────────┬─────────────┬─────────┐\n",
       "│ sepal.length ┆ sepal.width ┆ petal.length ┆ petal.width ┆ variety │\n",
       "│ ---          ┆ ---         ┆ ---          ┆ ---         ┆ ---     │\n",
       "│ f64          ┆ f64         ┆ f64          ┆ f64         ┆ str     │\n",
       "╞══════════════╪═════════════╪══════════════╪═════════════╪═════════╡\n",
       "│ 5.1          ┆ 3.5         ┆ 14.0         ┆ 0.2         ┆ Setosa  │\n",
       "│ 4.9          ┆ 3.0         ┆ 14.0         ┆ 0.2         ┆ Setosa  │\n",
       "│ 4.7          ┆ 3.2         ┆ 13.0         ┆ 0.2         ┆ Setosa  │\n",
       "└──────────────┴─────────────┴──────────────┴─────────────┴─────────┘"
      ]
     },
     "execution_count": 30,
     "metadata": {},
     "output_type": "execute_result"
    }
   ],
   "source": [
    "# suppose we want to add a new column name say Mux10_Petal.Length which is 10 * petal.length and display only first 3 rows\n",
    "mydf.with_columns([\n",
    "    (mypl.col('petal.length')*10).alias('Mux10_Petal.Length')\n",
    "    ]).head(3)"
   ]
  },
  {
   "cell_type": "code",
   "execution_count": 35,
   "metadata": {},
   "outputs": [
    {
     "data": {
      "text/html": [
       "<div><style>\n",
       ".dataframe > thead > tr > th,\n",
       ".dataframe > tbody > tr > td {\n",
       "  text-align: right;\n",
       "}\n",
       "</style>\n",
       "<small>shape: (5, 5)</small><table border=\"1\" class=\"dataframe\"><thead><tr><th>sepal.length</th><th>sepal.width</th><th>petal.length</th><th>petal.width</th><th>variety</th></tr><tr><td>f64</td><td>f64</td><td>f64</td><td>f64</td><td>str</td></tr></thead><tbody><tr><td>4.8</td><td>3.0</td><td>1.4</td><td>0.3</td><td>&quot;Setosa&quot;</td></tr><tr><td>5.1</td><td>3.8</td><td>1.6</td><td>0.2</td><td>&quot;Setosa&quot;</td></tr><tr><td>4.6</td><td>3.2</td><td>1.4</td><td>0.2</td><td>&quot;Setosa&quot;</td></tr><tr><td>5.3</td><td>3.7</td><td>1.5</td><td>0.2</td><td>&quot;Setosa&quot;</td></tr><tr><td>5.0</td><td>3.3</td><td>1.4</td><td>0.2</td><td>&quot;Setosa&quot;</td></tr></tbody></table></div>"
      ],
      "text/plain": [
       "shape: (5, 5)\n",
       "┌──────────────┬─────────────┬──────────────┬─────────────┬─────────┐\n",
       "│ sepal.length ┆ sepal.width ┆ petal.length ┆ petal.width ┆ variety │\n",
       "│ ---          ┆ ---         ┆ ---          ┆ ---         ┆ ---     │\n",
       "│ f64          ┆ f64         ┆ f64          ┆ f64         ┆ str     │\n",
       "╞══════════════╪═════════════╪══════════════╪═════════════╪═════════╡\n",
       "│ 4.8          ┆ 3.0         ┆ 1.4          ┆ 0.3         ┆ Setosa  │\n",
       "│ 5.1          ┆ 3.8         ┆ 1.6          ┆ 0.2         ┆ Setosa  │\n",
       "│ 4.6          ┆ 3.2         ┆ 1.4          ┆ 0.2         ┆ Setosa  │\n",
       "│ 5.3          ┆ 3.7         ┆ 1.5          ┆ 0.2         ┆ Setosa  │\n",
       "│ 5.0          ┆ 3.3         ┆ 1.4          ┆ 0.2         ┆ Setosa  │\n",
       "└──────────────┴─────────────┴──────────────┴─────────────┴─────────┘"
      ]
     },
     "execution_count": 35,
     "metadata": {},
     "output_type": "execute_result"
    }
   ],
   "source": [
    "# suppose we want to display last 5 rows with Setosa variety only\n",
    "mydf.filter(mypl.col('variety').is_in(['Setosa'])).tail()\n",
    "# The is_in() function is called on the 'variety' column. The is_in() function checks if the values in the column are present \n",
    "# in a given list. In this case, it checks if the 'variety' column values are in the list ['Setosa']."
   ]
  },
  {
   "cell_type": "markdown",
   "metadata": {},
   "source": [
    "## Computation performing on the select context  "
   ]
  },
  {
   "cell_type": "code",
   "execution_count": 37,
   "metadata": {},
   "outputs": [
    {
     "data": {
      "text/html": [
       "<div><style>\n",
       ".dataframe > thead > tr > th,\n",
       ".dataframe > tbody > tr > td {\n",
       "  text-align: right;\n",
       "}\n",
       "</style>\n",
       "<small>shape: (1, 1)</small><table border=\"1\" class=\"dataframe\"><thead><tr><th>sepal.length</th></tr><tr><td>u32</td></tr></thead><tbody><tr><td>35</td></tr></tbody></table></div>"
      ],
      "text/plain": [
       "shape: (1, 1)\n",
       "┌──────────────┐\n",
       "│ sepal.length │\n",
       "│ ---          │\n",
       "│ u32          │\n",
       "╞══════════════╡\n",
       "│ 35           │\n",
       "└──────────────┘"
      ]
     },
     "execution_count": 37,
     "metadata": {},
     "output_type": "execute_result"
    }
   ],
   "source": [
    "# Calculating the number of unique values in sepal.length column\n",
    "mydf.select([mypl.col('sepal.length').n_unique()])"
   ]
  },
  {
   "cell_type": "code",
   "execution_count": 38,
   "metadata": {},
   "outputs": [
    {
     "data": {
      "text/html": [
       "<div><style>\n",
       ".dataframe > thead > tr > th,\n",
       ".dataframe > tbody > tr > td {\n",
       "  text-align: right;\n",
       "}\n",
       "</style>\n",
       "<small>shape: (1, 5)</small><table border=\"1\" class=\"dataframe\"><thead><tr><th>min_sepal_length</th><th>mean_sepal_length</th><th>median_sepal_length</th><th>max_sepal_length</th><th>std_sepal_length</th></tr><tr><td>f64</td><td>f64</td><td>f64</td><td>f64</td><td>f64</td></tr></thead><tbody><tr><td>4.3</td><td>5.843333</td><td>5.8</td><td>7.9</td><td>0.828066</td></tr></tbody></table></div>"
      ],
      "text/plain": [
       "shape: (1, 5)\n",
       "┌──────────────────┬───────────────────┬─────────────────────┬──────────────────┬──────────────────┐\n",
       "│ min_sepal_length ┆ mean_sepal_length ┆ median_sepal_length ┆ max_sepal_length ┆ std_sepal_length │\n",
       "│ ---              ┆ ---               ┆ ---                 ┆ ---              ┆ ---              │\n",
       "│ f64              ┆ f64               ┆ f64                 ┆ f64              ┆ f64              │\n",
       "╞══════════════════╪═══════════════════╪═════════════════════╪══════════════════╪══════════════════╡\n",
       "│ 4.3              ┆ 5.843333          ┆ 5.8                 ┆ 7.9              ┆ 0.828066         │\n",
       "└──────────────────┴───────────────────┴─────────────────────┴──────────────────┴──────────────────┘"
      ]
     },
     "execution_count": 38,
     "metadata": {},
     "output_type": "execute_result"
    }
   ],
   "source": [
    "# Performing statistics on the entire sepal.length column')\n",
    "mydf.select([\n",
    "    mypl.col('sepal.length').min().alias('min_sepal_length'),\n",
    "    mypl.col('sepal.length').mean().alias('mean_sepal_length'),\n",
    "    mypl.col('sepal.length').median().alias('median_sepal_length'),\n",
    "    mypl.col('sepal.length').max().alias('max_sepal_length'),\n",
    "    mypl.col('sepal.length').std().alias('std_sepal_length')\n",
    "])"
   ]
  },
  {
   "cell_type": "code",
   "execution_count": 39,
   "metadata": {},
   "outputs": [
    {
     "data": {
      "text/html": [
       "<div><style>\n",
       ".dataframe > thead > tr > th,\n",
       ".dataframe > tbody > tr > td {\n",
       "  text-align: right;\n",
       "}\n",
       "</style>\n",
       "<small>shape: (9, 2)</small><table border=\"1\" class=\"dataframe\"><thead><tr><th>describe</th><th>sepal.length</th></tr><tr><td>str</td><td>f64</td></tr></thead><tbody><tr><td>&quot;count&quot;</td><td>150.0</td></tr><tr><td>&quot;null_count&quot;</td><td>0.0</td></tr><tr><td>&quot;mean&quot;</td><td>5.843333</td></tr><tr><td>&quot;std&quot;</td><td>0.828066</td></tr><tr><td>&quot;min&quot;</td><td>4.3</td></tr><tr><td>&quot;max&quot;</td><td>7.9</td></tr><tr><td>&quot;median&quot;</td><td>5.8</td></tr><tr><td>&quot;25%&quot;</td><td>5.1</td></tr><tr><td>&quot;75%&quot;</td><td>6.4</td></tr></tbody></table></div>"
      ],
      "text/plain": [
       "shape: (9, 2)\n",
       "┌────────────┬──────────────┐\n",
       "│ describe   ┆ sepal.length │\n",
       "│ ---        ┆ ---          │\n",
       "│ str        ┆ f64          │\n",
       "╞════════════╪══════════════╡\n",
       "│ count      ┆ 150.0        │\n",
       "│ null_count ┆ 0.0          │\n",
       "│ mean       ┆ 5.843333     │\n",
       "│ std        ┆ 0.828066     │\n",
       "│ min        ┆ 4.3          │\n",
       "│ max        ┆ 7.9          │\n",
       "│ median     ┆ 5.8          │\n",
       "│ 25%        ┆ 5.1          │\n",
       "│ 75%        ┆ 6.4          │\n",
       "└────────────┴──────────────┘"
      ]
     },
     "execution_count": 39,
     "metadata": {},
     "output_type": "execute_result"
    }
   ],
   "source": [
    "# computing statistics at a series level\n",
    "mydf.select([mypl.col('sepal.length')]).describe()"
   ]
  },
  {
   "cell_type": "code",
   "execution_count": 40,
   "metadata": {},
   "outputs": [
    {
     "name": "stdout",
     "output_type": "stream",
     "text": [
      "Performing data processing in polars and data visualization in pandas\n"
     ]
    }
   ],
   "source": [
    "print('Performing data processing in polars and data visualization in pandas')\n",
    "mysepal_length = mydf.select([\n",
    "    mypl.col('sepal.length')\n",
    "    ]) # data processing\n"
   ]
  },
  {
   "cell_type": "code",
   "execution_count": 41,
   "metadata": {},
   "outputs": [
    {
     "data": {
      "text/plain": [
       "array([[<matplotlib.axes._subplots.AxesSubplot object at 0x00000124EF40AE88>]],\n",
       "      dtype=object)"
      ]
     },
     "execution_count": 41,
     "metadata": {},
     "output_type": "execute_result"
    },
    {
     "data": {
      "image/png": "[encoded data removed]",
      "text/plain": [
       "<Figure size 432x288 with 1 Axes>"
      ]
     },
     "metadata": {
      "needs_background": "light"
     },
     "output_type": "display_data"
    }
   ],
   "source": [
    "mysepal_length.sample(100).to_pandas().hist(bins=10) # data visualization"
   ]
  },
  {
   "cell_type": "code",
   "execution_count": null,
   "metadata": {},
   "outputs": [],
   "source": []
  }
 ],
 "metadata": {
  "kernelspec": {
   "display_name": "Python 3",
   "language": "python",
   "name": "python3"
  },
  "language_info": {
   "codemirror_mode": {
    "name": "ipython",
    "version": 3
   },
   "file_extension": ".py",
   "mimetype": "text/x-python",
   "name": "python",
   "nbconvert_exporter": "python",
   "pygments_lexer": "ipython3",
   "version": "3.7.6"
  }
 },
 "nbformat": 4,
 "nbformat_minor": 4
}
