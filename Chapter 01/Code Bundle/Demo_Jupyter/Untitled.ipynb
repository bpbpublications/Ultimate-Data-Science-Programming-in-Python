{
 "cells": [
  {
   "cell_type": "code",
   "execution_count": 1,
   "id": "bd9284ce",
   "metadata": {},
   "outputs": [],
   "source": [
    "mynum1 = 2\n",
    "mynum2 = 3\n",
    "mynum3 = mynum1 * mynum2"
   ]
  },
  {
   "cell_type": "code",
   "execution_count": 2,
   "id": "b258e110",
   "metadata": {},
   "outputs": [
    {
     "data": {
      "text/plain": [
       "6"
      ]
     },
     "execution_count": 2,
     "metadata": {},
     "output_type": "execute_result"
    }
   ],
   "source": [
    "mynum3"
   ]
  },
  {
   "cell_type": "code",
   "execution_count": 3,
   "id": "ce938108",
   "metadata": {},
   "outputs": [
    {
     "data": {
      "text/plain": [
       "'C:\\\\Users\\\\SAURABH\\\\Desktop\\\\Demo_Jupyter'"
      ]
     },
     "execution_count": 3,
     "metadata": {},
     "output_type": "execute_result"
    }
   ],
   "source": [
    "pwd"
   ]
  },
  {
   "cell_type": "markdown",
   "id": "619870d0",
   "metadata": {},
   "source": [
    "4 + 4"
   ]
  },
  {
   "cell_type": "raw",
   "id": "153fc102",
   "metadata": {},
   "source": [
    "<!-- Raw NBConvert Cell -->\n",
    "<div style=\"background-color: lightblue; padding: 10px;\">\n",
    "    <h2>Custom Header</h2>\n",
    "    <p>This is a customized header with a light blue background and padding.</p>\n",
    "</div>"
   ]
  },
  {
   "cell_type": "markdown",
   "id": "5e436e67",
   "metadata": {},
   "source": [
    "## Jupyter"
   ]
  },
  {
   "cell_type": "markdown",
   "id": "213957c2",
   "metadata": {},
   "source": [
    "# Jupyter "
   ]
  },
  {
   "cell_type": "code",
   "execution_count": null,
   "id": "be0491b1",
   "metadata": {},
   "outputs": [],
   "source": []
  }
 ],
 "metadata": {
  "kernelspec": {
   "display_name": "Python 3 (ipykernel)",
   "language": "python",
   "name": "python3"
  },
  "language_info": {
   "codemirror_mode": {
    "name": "ipython",
    "version": 3
   },
   "file_extension": ".py",
   "mimetype": "text/x-python",
   "name": "python",
   "nbconvert_exporter": "python",
   "pygments_lexer": "ipython3",
   "version": "3.7.6"
  }
 },
 "nbformat": 4,
 "nbformat_minor": 5
}
